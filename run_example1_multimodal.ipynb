{
 "cells": [
  {
   "cell_type": "code",
   "execution_count": null,
   "metadata": {},
   "outputs": [],
   "source": [
    "import os\n",
    "import nest_asyncio\n",
    "from llama_parse import LlamaParse\n",
    "from llama_index.core.schema import ImageDocument, TextNode\n",
    "from llama_index.multi_modal_llms.openai import OpenAIMultiModal\n",
    "from typing import List\n",
    "\n",
    "nest_asyncio.apply()\n",
    "\n",
    "FILE_NAME = \"./data/example1/memes.pdf\"\n",
    "IMAGES_DOWNLOAD_PATH = \"./data/example1/images/\"\n",
    "\n",
    "LLAMA_CLOUD_API_KEY = os.environ[\"LLAMA_CLOUD_API_KEY\"]\n",
    "OPENAI_API_KEY = os.environ[\"OPENAI_API_KEY\"]"
   ]
  },
  {
   "cell_type": "code",
   "execution_count": null,
   "metadata": {},
   "outputs": [],
   "source": [
    "parser = LlamaParse(\n",
    "    api_key=LLAMA_CLOUD_API_KEY,\n",
    "    result_type=\"markdown\",\n",
    ")\n",
    "\n",
    "json_objs = parser.get_json_result(FILE_NAME)\n",
    "json_list = json_objs[0][\"pages\"]"
   ]
  },
  {
   "cell_type": "code",
   "execution_count": null,
   "metadata": {},
   "outputs": [],
   "source": [
    "def get_text_nodes(json_list: List[dict]) -> List[TextNode]:\n",
    "    return [TextNode(text=page[\"text\"], metadata={\"page\": page[\"page\"]}) for page in json_list]\n",
    "\n",
    "text_nodes = get_text_nodes(json_list)\n",
    "\n",
    "def get_image_nodes(json_objs: List[dict], download_path: str) -> List[ImageDocument]:\n",
    "    image_dicts = parser.get_images(json_objs, download_path=download_path)\n",
    "    return [ImageDocument(image_path=image_dict[\"path\"]) for image_dict in image_dicts]\n",
    "\n",
    "image_documents = get_image_nodes(json_objs, IMAGES_DOWNLOAD_PATH)"
   ]
  },
  {
   "cell_type": "code",
   "execution_count": 8,
   "metadata": {},
   "outputs": [
    {
     "name": "stdout",
     "output_type": "stream",
     "text": [
      "Started parsing the file under job_id d8e12945-d03d-489a-93bc-71c66b6b366e\n",
      "> Image for page 1: [{'name': 'img_p0_1.png', 'height': 371, 'width': 556, 'x': 168.139, 'y': 124.80107680000003, 'original_width': 1024, 'original_height': 683}]\n",
      "The image shows a man smiling while holding a mug and using a laptop. This image is often used in memes to convey a sense of irony or hidden discomfort behind a smile. It relates to the text \"Memes can tell more than 1000 words\" by illustrating how a simple image can convey complex emotions or narratives, often more effectively than words alone.\n"
     ]
    }
   ],
   "source": [
    "openai_mm_llm = OpenAIMultiModal(\n",
    "    model=\"gpt-4o\", api_key=OPENAI_API_KEY, max_new_tokens=300\n",
    ")\n",
    "\n",
    "response = openai_mm_llm.complete(\n",
    "    prompt=f\"How does the image relate to the text: '{text_nodes[0].text}'?\",\n",
    "    image_documents=image_documents,\n",
    ")\n",
    "\n",
    "print(response)\n"
   ]
  }
 ],
 "metadata": {
  "kernelspec": {
   "display_name": ".venv",
   "language": "python",
   "name": "python3"
  },
  "language_info": {
   "codemirror_mode": {
    "name": "ipython",
    "version": 3
   },
   "file_extension": ".py",
   "mimetype": "text/x-python",
   "name": "python",
   "nbconvert_exporter": "python",
   "pygments_lexer": "ipython3",
   "version": "3.12.7"
  }
 },
 "nbformat": 4,
 "nbformat_minor": 2
}
