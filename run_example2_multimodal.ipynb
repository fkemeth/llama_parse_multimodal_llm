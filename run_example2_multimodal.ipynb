{
 "cells": [
  {
   "cell_type": "code",
   "execution_count": 1,
   "metadata": {},
   "outputs": [],
   "source": [
    "import os\n",
    "import nest_asyncio\n",
    "from llama_parse import LlamaParse\n",
    "from llama_index.core.schema import ImageDocument, TextNode\n",
    "from llama_index.multi_modal_llms.openai import OpenAIMultiModal\n",
    "from typing import List\n",
    "\n",
    "nest_asyncio.apply()\n",
    "\n",
    "FILE_NAME = \"./data/example2/past_elections.pdf\"\n",
    "IMAGES_DOWNLOAD_PATH = \"./data/example2/images/\"\n",
    "\n",
    "LLAMA_CLOUD_API_KEY = os.environ[\"LLAMA_CLOUD_API_KEY\"]\n",
    "OPENAI_API_KEY = os.environ[\"OPENAI_API_KEY\"]"
   ]
  },
  {
   "cell_type": "code",
   "execution_count": 2,
   "metadata": {},
   "outputs": [
    {
     "name": "stdout",
     "output_type": "stream",
     "text": [
      "Started parsing the file under job_id 2929e85a-de8d-4104-866b-81a07c320486\n"
     ]
    }
   ],
   "source": [
    "parser = LlamaParse(\n",
    "    api_key=LLAMA_CLOUD_API_KEY,\n",
    "    result_type=\"markdown\",\n",
    ")\n",
    "\n",
    "json_objs = parser.get_json_result(FILE_NAME)\n",
    "json_list = json_objs[0][\"pages\"]"
   ]
  },
  {
   "cell_type": "code",
   "execution_count": 3,
   "metadata": {},
   "outputs": [
    {
     "name": "stdout",
     "output_type": "stream",
     "text": [
      "> Image for page 1: [{'name': 'img_p0_1.png', 'height': 303, 'width': 520, 'x': 177.479, 'y': 236.3814, 'original_width': 2560, 'original_height': 1489}, {'name': 'img_p0_2.png', 'height': 303, 'width': 520, 'x': 177.479, 'y': 430.99816, 'original_width': 1600, 'original_height': 931}]\n"
     ]
    }
   ],
   "source": [
    "def get_text_nodes(json_list: List[dict]) -> List[TextNode]:\n",
    "    return [TextNode(text=page[\"text\"], metadata={\"page\": page[\"page\"]}) for page in json_list]\n",
    "\n",
    "text_nodes = get_text_nodes(json_list)\n",
    "\n",
    "def get_image_nodes(json_objs: List[dict], download_path: str) -> List[ImageDocument]:\n",
    "    image_dicts = parser.get_images(json_objs, download_path=download_path)\n",
    "    return [ImageDocument(image_path=image_dict[\"path\"]) for image_dict in image_dicts]\n",
    "\n",
    "image_documents = get_image_nodes(json_objs, IMAGES_DOWNLOAD_PATH)"
   ]
  },
  {
   "cell_type": "code",
   "execution_count": 6,
   "metadata": {},
   "outputs": [
    {
     "name": "stdout",
     "output_type": "stream",
     "text": [
      "The images show the electoral maps for the 2016 and 2020 U.S. presidential elections. In these maps, red indicates states won by Trump, and blue indicates states won by Clinton (2016) or Biden (2020). \n",
      "\n",
      "Between 2016 and 2020, the states that switched from Trump to Biden are:\n",
      "\n",
      "- Arizona\n",
      "- Georgia\n",
      "- Michigan\n",
      "- Pennsylvania\n",
      "- Wisconsin\n",
      "\n",
      "These states were red in the 2016 map and blue in the 2020 map.\n"
     ]
    }
   ],
   "source": [
    "openai_mm_llm = OpenAIMultiModal(\n",
    "    model=\"gpt-4o\", api_key=OPENAI_API_KEY, max_new_tokens=300\n",
    ")\n",
    "\n",
    "response = openai_mm_llm.complete(\n",
    "    prompt=f\"How does the image relate to the text: '{text_nodes[0].text}'? Which states switched from Trump to Biden between 2016 and 2020?\",\n",
    "    image_documents=image_documents,\n",
    ")\n",
    "\n",
    "print(response)\n"
   ]
  }
 ],
 "metadata": {
  "kernelspec": {
   "display_name": ".venv",
   "language": "python",
   "name": "python3"
  },
  "language_info": {
   "codemirror_mode": {
    "name": "ipython",
    "version": 3
   },
   "file_extension": ".py",
   "mimetype": "text/x-python",
   "name": "python",
   "nbconvert_exporter": "python",
   "pygments_lexer": "ipython3",
   "version": "3.12.7"
  }
 },
 "nbformat": 4,
 "nbformat_minor": 2
}
